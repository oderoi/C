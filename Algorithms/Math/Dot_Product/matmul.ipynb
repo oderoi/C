{
 "cells": [
  {
   "cell_type": "markdown",
   "metadata": {},
   "source": [
    "# Matrix Multiplication in C\n",
    "\n",
    "Given two matrices A of dimensions M x K and B of dimension K x N, we want to compute their dot product C = A . B, which is also known as matrix multiplication.\n",
    "\n",
    "The dot product.\n",
    "\n",
    "$C += A . B$\n",
    "\n",
    "$1D Array.$\n",
    "\n",
    "$C_{i} = \\sum\\limits_{i = 0}^{n} (A_{i} . B_{i}) = A_{1}B_{1} + A_{2}B_{2} + ...+ A_{n}B_{n}$\n",
    "\n",
    "$2D Array.$\n",
    "\n",
    "$C_{i , j} = \\sum\\limits_{k \\in [0 ... K) } (A_{i , k} . B_{k , j})$\n",
    "\n",
    "$C_{i , j} = A_{i , k} . B_{k , j}$\n",
    "\n",
    "Consider\n",
    "\n",
    "$A \\in \\mathbb{R}^{m \\times k}  ==   A \\in \\mathbb{R}^{rowA \\times colA}$\n",
    "\n",
    "$B \\in \\mathbb{R}^{k \\times n}  ==   B \\in \\mathbb{R}^{rowB \\times colB}$\n",
    "\n",
    "\n",
    "![Matrix Multiplication,  Dot Product](images/dot.png)"
   ]
  },
  {
   "cell_type": "markdown",
   "metadata": {},
   "source": []
  }
 ],
 "metadata": {
  "language_info": {
   "name": "python"
  }
 },
 "nbformat": 4,
 "nbformat_minor": 2
}
