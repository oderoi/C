{
 "cells": [
  {
   "cell_type": "markdown",
   "metadata": {},
   "source": [
    "# Palindromic number in C\n",
    "\n",
    "Palindromic number (also known as a _**numeral palindrome**_ or a _**numeric palindrome**_) is a number (such as _**16461**_) that remain the same when it's digits are reversed.\n",
    "\n",
    "In other words it has __**reflectional symmetry**__ across a vertical axis.\n",
    "\n",
    "The term palindromic is derived from palindrome, which refers to a word (such as _**rotor**_ , _**tenet**_) whose spelling is unchanged when it's letters are reversed.\n",
    "\n",
    "Consider a number $n > 0$ in base $b \\ge 2$ where it is written in standard notation with $ k + 1$ digits $a_{i}$ as:\n",
    "\n",
    "$n = \\sum _{i=0}^{k}a_{i}b^{i}$\n",
    "\n",
    "where: $0 \\le a_{i} < b$ for all $i$ and $a_{k} \\ne 0$\n",
    "\n",
    "Then $n$ is palimendric if and only if $a_{i} = a_{k -i}$ for all $i$. _**Zero**_ is written $0$ in any base and is also palindromic by definition.\n",
    "\n",
    "Note: Although palindromic number are most often considered in the _**decimal**_ system, the concept of _**palindromicity**_ can be applied to the _**natural numbers**_ in any _**numeral system**_.\n",
    "\n",
    "Example of 20 first palindromic numbers (in decimal):\n",
    "$0, 1, 2, 3, 4, 5, 6, 7, 8, 9, 11, 22, 33, 44, 55, 66, 77, 88, 99, 101, \\cdots$\n",
    "\n",
    "The folowing code in _**C**_,  will check if the given number by user is pelindromic number or not."
   ]
  },
  {
   "cell_type": "markdown",
   "metadata": {},
   "source": []
  }
 ],
 "metadata": {
  "language_info": {
   "name": "python"
  }
 },
 "nbformat": 4,
 "nbformat_minor": 2
}
