{
 "cells": [
  {
   "cell_type": "markdown",
   "metadata": {},
   "source": [
    "# Copy"
   ]
  },
  {
   "cell_type": "markdown",
   "metadata": {},
   "source": [
    "**An important concept for Part Four**"
   ]
  },
  {
   "cell_type": "markdown",
   "metadata": {},
   "source": [
    "You will:\n",
    "* Explore what is copy in python and it's type.\n",
    "* Explore how to implement it in C"
   ]
  },
  {
   "cell_type": "markdown",
   "metadata": {},
   "source": [
    "**Python - copy**"
   ]
  },
  {
   "cell_type": "markdown",
   "metadata": {},
   "source": [
    "**Copy** \n",
    "- Is the module, which provides functions to create shallow and deep copies of objects, for creating a copy of a provided argument/variable."
   ]
  },
  {
   "cell_type": "markdown",
   "metadata": {},
   "source": [
    "### Types of copy"
   ]
  },
  {
   "cell_type": "markdown",
   "metadata": {},
   "source": [
    "**python import**"
   ]
  },
  {
   "cell_type": "code",
   "execution_count": 3,
   "metadata": {},
   "outputs": [],
   "source": [
    "import copy\n",
    "import numpy as np"
   ]
  },
  {
   "cell_type": "markdown",
   "metadata": {},
   "source": [
    "***Shallow copy***\n"
   ]
  },
  {
   "cell_type": "markdown",
   "metadata": {},
   "source": [
    "A ***shallow copy*** in python creates a new object to reference the original nested object.\n",
    "* If you modify new object, it will affect the new object as well."
   ]
  },
  {
   "cell_type": "code",
   "execution_count": 42,
   "metadata": {},
   "outputs": [
    {
     "name": "stdout",
     "output_type": "stream",
     "text": [
      "\n",
      "Before changinge shallow copied parameter, w \n",
      "\n",
      "Original:  w_init[0][0]:   2,   w_init[1][0]:   3\n",
      "Shallow copy:  w[0][0]:   2,    w[1][0]:   3 \n",
      "\n",
      "After changinge shallow copied parameter, w \n",
      "\n",
      "Original:  w_init[0][0]:   0,   w_init[1][0]:   0\n",
      "Shallow copy:  w[0][0]:   0,    w[1][0]:   0\n"
     ]
    }
   ],
   "source": [
    "def main():\n",
    "    #initialized parameter\n",
    "    w_init = [[2],[3]]\n",
    "\n",
    "    #perform shallow copy\n",
    "    w = copy.copy(w_init)\n",
    "\n",
    "    # Before modification of w\n",
    "    print(\"\\nBefore changinge shallow copied parameter, w \\n\")\n",
    "    print(f\"Original:  w_init[0][0]:   {w_init[0][0]},   w_init[1][0]:   {w_init[1][0]}\")\n",
    "    print(f\"Shallow copy:  w[0][0]:   {w[0][0]},    w[1][0]:   {w[1][0]} \\n\")\n",
    "\n",
    "    #modify the initialized parameter\n",
    "    w[0][0] = 0\n",
    "    w[1][0] = 0\n",
    "\n",
    "    # After modification of w\n",
    "    print(\"After changinge shallow copied parameter, w \\n\")\n",
    "    print(f\"Original:  w_init[0][0]:   {w_init[0][0]},   w_init[1][0]:   {w_init[1][0]}\")\n",
    "    print(f\"Shallow copy:  w[0][0]:   {w[0][0]},    w[1][0]:   {w[1][0]}\")   \n",
    "\n",
    "if __name__==\"__main__\":\n",
    "    main()"
   ]
  },
  {
   "cell_type": "markdown",
   "metadata": {},
   "source": [
    "***Deep copy***"
   ]
  },
  {
   "cell_type": "markdown",
   "metadata": {},
   "source": [
    "A ***Deep copy*** in python creates a new object and ensuring no shared refrences with the original objects by recursively copies all objects found inside the original object.\n",
    "* If you modify new object it will not affect the original object."
   ]
  },
  {
   "cell_type": "code",
   "execution_count": 43,
   "metadata": {},
   "outputs": [
    {
     "name": "stdout",
     "output_type": "stream",
     "text": [
      "\n",
      "Before changinge deep copied parameter, w \n",
      "\n",
      "Original:  w_init[0][0]:   2,   w_init[1][0]:   3\n",
      "Shallow copy:  w[0][0]:   2,    w[1][0]:   3 \n",
      "\n",
      "After changinge deep copied parameter, w \n",
      "\n",
      "Original:  w_init[0][0]:   2,   w_init[1][0]:   3\n",
      "Shallow copy:  w[0][0]:   0,    w[1][0]:   0\n"
     ]
    }
   ],
   "source": [
    "def main():\n",
    "    #initialized parameter\n",
    "    w_init = [[2], [3]]\n",
    "\n",
    "    #perform deep copy\n",
    "    w = copy.deepcopy(w_init)\n",
    "\n",
    "    # Before modification of w\n",
    "    print(\"\\nBefore changinge deep copied parameter, w \\n\")\n",
    "    print(f\"Original:  w_init[0][0]:   {w_init[0][0]},   w_init[1][0]:   {w_init[1][0]}\")\n",
    "    print(f\"Shallow copy:  w[0][0]:   {w[0][0]},    w[1][0]:   {w[1][0]} \\n\")\n",
    "\n",
    "    #modify the initialized parameter\n",
    "    w[0][0] = 0\n",
    "    w[1][0] = 0\n",
    "\n",
    "    # After modification of w\n",
    "    print(\"After changinge deep copied parameter, w \\n\")\n",
    "    print(f\"Original:  w_init[0][0]:   {w_init[0][0]},   w_init[1][0]:   {w_init[1][0]}\")\n",
    "    print(f\"Shallow copy:  w[0][0]:   {w[0][0]},    w[1][0]:   {w[1][0]}\")    \n",
    "\n",
    "if __name__==\"__main__\":\n",
    "    main()"
   ]
  },
  {
   "cell_type": "markdown",
   "metadata": {},
   "source": [
    "**C - copy**"
   ]
  },
  {
   "cell_type": "markdown",
   "metadata": {},
   "source": [
    "***Shallow copy***"
   ]
  },
  {
   "cell_type": "markdown",
   "metadata": {},
   "source": [
    "A ***shallow copy*** In C, involves copying the value of a pointer, so that both the original pointer and the copied pointer point to the same memory location. \n",
    "* This means that changes to one will affect the other."
   ]
  },
  {
   "cell_type": "markdown",
   "metadata": {},
   "source": [
    "***Deep copy***"
   ]
  },
  {
   "cell_type": "markdown",
   "metadata": {},
   "source": [
    "A ***deep copy***, in C, involves creating a new memory location and copying the actual values from the original object to this new memory space. \n",
    "* Changes to the copied object do not affect the original object."
   ]
  },
  {
   "cell_type": "code",
   "execution_count": null,
   "metadata": {},
   "outputs": [],
   "source": []
  }
 ],
 "metadata": {
  "kernelspec": {
   "display_name": "venv",
   "language": "python",
   "name": "python3"
  },
  "language_info": {
   "codemirror_mode": {
    "name": "ipython",
    "version": 3
   },
   "file_extension": ".py",
   "mimetype": "text/x-python",
   "name": "python",
   "nbconvert_exporter": "python",
   "pygments_lexer": "ipython3",
   "version": "3.9.6"
  }
 },
 "nbformat": 4,
 "nbformat_minor": 2
}
